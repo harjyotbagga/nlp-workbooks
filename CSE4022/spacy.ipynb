{
 "cells": [
  {
   "cell_type": "code",
   "execution_count": 2,
   "metadata": {},
   "outputs": [],
   "source": [
    "import spacy\n",
    "m = spacy.load('en_core_web_sm')"
   ]
  },
  {
   "cell_type": "code",
   "execution_count": 7,
   "metadata": {},
   "outputs": [],
   "source": [
    "example_text = \"Apple Inc. is an American multinational technology company headquartered in Cupertino, California, that designs, develops and sells consumer electronics, computer software, and online services. It is considered one of the Big Tech technology companies, alongside Amazon, Google, Microsoft, and Facebook.\"\n",
    "doc = m(example_text)"
   ]
  },
  {
   "cell_type": "code",
   "execution_count": 8,
   "metadata": {},
   "outputs": [
    {
     "name": "stdout",
     "output_type": "stream",
     "text": [
      "Apple Inc. ORG\n",
      "American NORP\n",
      "Cupertino GPE\n",
      "California GPE\n",
      "Big Tech ORG\n",
      "Amazon ORG\n",
      "Google ORG\n",
      "Microsoft ORG\n",
      "Facebook ORG\n"
     ]
    }
   ],
   "source": [
    "for ent in doc.ents:\n",
    "    print(ent.text, ent.label_)"
   ]
  },
  {
   "cell_type": "code",
   "execution_count": 9,
   "metadata": {},
   "outputs": [
    {
     "name": "stdout",
     "output_type": "stream",
     "text": [
      "apple inc. is an american multinational technology company headquartered in cupertino, california, that designs, develops and sells consumer electronics, computer software, and online services. it is considered one of the big tech technology companies, alongside amazon, google, microsoft, and facebook.\n"
     ]
    }
   ],
   "source": [
    "example_text1 = example_text.lower()\n",
    "doc1 = m(example_text)\n",
    "print(example_text1)"
   ]
  },
  {
   "cell_type": "code",
   "execution_count": 10,
   "metadata": {},
   "outputs": [
    {
     "name": "stdout",
     "output_type": "stream",
     "text": [
      "Apple Inc. ORG\n",
      "American NORP\n",
      "Cupertino GPE\n",
      "California GPE\n",
      "Big Tech ORG\n",
      "Amazon ORG\n",
      "Google ORG\n",
      "Microsoft ORG\n",
      "Facebook ORG\n"
     ]
    }
   ],
   "source": [
    "for ent in doc1.ents:\n",
    "    print(ent.text, ent.label_)"
   ]
  },
  {
   "cell_type": "code",
   "execution_count": 11,
   "metadata": {},
   "outputs": [
    {
     "name": "stdout",
     "output_type": "stream",
     "text": [
      "harry ORG\n"
     ]
    }
   ],
   "source": [
    "example_text2 = \"harry is a silent killer.\"\n",
    "doc2 = m(example_text2)\n",
    "for ent in doc2.ents:\n",
    "    print(ent.text, ent.label_)"
   ]
  },
  {
   "cell_type": "code",
   "execution_count": 13,
   "metadata": {},
   "outputs": [
    {
     "name": "stdout",
     "output_type": "stream",
     "text": [
      "December 8, 1976 DATE\n",
      "Hotel California ORG\n",
      "one CARDINAL\n",
      "release day DATE\n",
      "over 16 million CARDINAL\n",
      "US GPE\n",
      "Hotel California ORG\n",
      "eight weeks DATE\n",
      "no.2 PRODUCT\n",
      "U.K GPE\n",
      "New Kid GPE\n",
      "Town GPE\n",
      "“Life in The Fast Lane” WORK_OF_ART\n",
      "Don Felder PERSON\n",
      "Jon Walsh PERSON\n",
      "Don Henley PERSON\n",
      "Eagles ORG\n",
      "Hotel California GPE\n"
     ]
    }
   ],
   "source": [
    "example_text = \"Released on December 8, 1976. Hotel California is one of the best rock and roll albums to date, becoming an instant hit on release day. With over 16 million copies sold in the US alone, Hotel California topped the billboard charts for eight weeks and hit no.2 in the U.K.. Songs such as “Hotel California”, “New Kid in Town”, “Life in The Fast Lane”, made the album a massive hit and made it stand out from their previous work.\"\\\n",
    "+ \"From legendary harmonies from Don Felder and Jon Walsh to amazing vocal lines from Don Henley, this album has it all. It’s a must-listen for anybody who calls themselves a rock enthusiast.  In the early stages of the Eagles career, the band never received the ambitious sound that they were after, but Hotel California is the album that took them to that next level and expanded their sound. \"\n",
    "\n",
    "doc = m(example_text)\n",
    "for ent in doc.ents:\n",
    "    print(ent.text, ent.label_)"
   ]
  },
  {
   "cell_type": "code",
   "execution_count": 16,
   "metadata": {},
   "outputs": [
    {
     "name": "stdout",
     "output_type": "stream",
     "text": [
      "11 CARDINAL\n",
      "Apple ORG\n",
      "Samsung ORG\n",
      "LCD ORG\n",
      "RAM - up to 4GB PRODUCT\n",
      "iOS 13 LAW\n",
      "11 CARDINAL\n",
      "699 MONEY\n",
      "iPhone ORG\n"
     ]
    }
   ],
   "source": [
    "example_text1 = \"The iPhone 11 isn't the highest-spec Apple phone, but it supersedes the iPhone XR 'budget flagship' in better ways to become the standout phone of its generation in terms of sheer value. \"\\\n",
    "+\"True, it misses out on a telephoto lens, but like we found with the Samsung Galaxy S10e, a coupling of main and ultrawide lenses serve most photo needs. While it doesn't get an OLED display, its LCD screen at least allows the phone to keep its best-in-generation battery life crown. And it even gets a bit more RAM - up to 4GB from its predecessor's 3GB.\"\\\n",
    "+\"Add in iOS 13 and all the new tweaks coming in the iPhone 11 series and this phone is a lean, mean, photo-taking machine - and all for $699, the cheapest an iPhone has debuted since the iPhone 8.\"\n",
    "doc1 = m(example_text1)\n",
    "for ent in doc1.ents:\n",
    "    print(ent.text, ent.label_)"
   ]
  },
  {
   "cell_type": "code",
   "execution_count": 21,
   "metadata": {},
   "outputs": [],
   "source": [
    "example_text1 = \"Ganga and himalya\"\n",
    "doc1 = m(example_text1)\n",
    "for ent in doc1.ents:\n",
    "    print(ent.text, ent.label_)"
   ]
  },
  {
   "cell_type": "code",
   "execution_count": null,
   "metadata": {},
   "outputs": [],
   "source": []
  }
 ],
 "metadata": {
  "kernelspec": {
   "display_name": "Python 3",
   "language": "python",
   "name": "python3"
  },
  "language_info": {
   "codemirror_mode": {
    "name": "ipython",
    "version": 3
   },
   "file_extension": ".py",
   "mimetype": "text/x-python",
   "name": "python",
   "nbconvert_exporter": "python",
   "pygments_lexer": "ipython3",
   "version": "3.7.7"
  }
 },
 "nbformat": 4,
 "nbformat_minor": 4
}
