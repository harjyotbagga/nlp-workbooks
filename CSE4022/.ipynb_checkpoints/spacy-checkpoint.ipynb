{
 "cells": [
  {
   "cell_type": "code",
   "execution_count": 2,
   "metadata": {},
   "outputs": [],
   "source": [
    "import spacy\n",
    "m = spacy.load('en_core_web_sm')"
   ]
  },
  {
   "cell_type": "code",
   "execution_count": 7,
   "metadata": {},
   "outputs": [],
   "source": [
    "example_text = \"Apple Inc. is an American multinational technology company headquartered in Cupertino, California, that designs, develops and sells consumer electronics, computer software, and online services. It is considered one of the Big Tech technology companies, alongside Amazon, Google, Microsoft, and Facebook.\"\n",
    "doc = m(example_text)"
   ]
  },
  {
   "cell_type": "code",
   "execution_count": 8,
   "metadata": {},
   "outputs": [
    {
     "name": "stdout",
     "output_type": "stream",
     "text": [
      "Apple Inc. ORG\n",
      "American NORP\n",
      "Cupertino GPE\n",
      "California GPE\n",
      "Big Tech ORG\n",
      "Amazon ORG\n",
      "Google ORG\n",
      "Microsoft ORG\n",
      "Facebook ORG\n"
     ]
    }
   ],
   "source": [
    "for ent in doc.ents:\n",
    "    print(ent.text, ent.label_)"
   ]
  },
  {
   "cell_type": "code",
   "execution_count": 9,
   "metadata": {},
   "outputs": [
    {
     "name": "stdout",
     "output_type": "stream",
     "text": [
      "apple inc. is an american multinational technology company headquartered in cupertino, california, that designs, develops and sells consumer electronics, computer software, and online services. it is considered one of the big tech technology companies, alongside amazon, google, microsoft, and facebook.\n"
     ]
    }
   ],
   "source": [
    "example_text1 = example_text.lower()\n",
    "doc1 = m(example_text)\n",
    "print(example_text1)"
   ]
  },
  {
   "cell_type": "code",
   "execution_count": 10,
   "metadata": {},
   "outputs": [
    {
     "name": "stdout",
     "output_type": "stream",
     "text": [
      "Apple Inc. ORG\n",
      "American NORP\n",
      "Cupertino GPE\n",
      "California GPE\n",
      "Big Tech ORG\n",
      "Amazon ORG\n",
      "Google ORG\n",
      "Microsoft ORG\n",
      "Facebook ORG\n"
     ]
    }
   ],
   "source": [
    "for ent in doc1.ents:\n",
    "    print(ent.text, ent.label_)"
   ]
  },
  {
   "cell_type": "code",
   "execution_count": 11,
   "metadata": {},
   "outputs": [
    {
     "name": "stdout",
     "output_type": "stream",
     "text": [
      "harry ORG\n"
     ]
    }
   ],
   "source": [
    "example_text2 = \"harry is a silent killer.\"\n",
    "doc2 = m(example_text2)\n",
    "for ent in doc2.ents:\n",
    "    print(ent.text, ent.label_)"
   ]
  },
  {
   "cell_type": "code",
   "execution_count": 13,
   "metadata": {},
   "outputs": [
    {
     "name": "stdout",
     "output_type": "stream",
     "text": [
      "December 8, 1976 DATE\n",
      "Hotel California ORG\n",
      "one CARDINAL\n",
      "release day DATE\n",
      "over 16 million CARDINAL\n",
      "US GPE\n",
      "Hotel California ORG\n",
      "eight weeks DATE\n",
      "no.2 PRODUCT\n",
      "U.K GPE\n",
      "New Kid GPE\n",
      "Town GPE\n",
      "“Life in The Fast Lane” WORK_OF_ART\n",
      "Don Felder PERSON\n",
      "Jon Walsh PERSON\n",
      "Don Henley PERSON\n",
      "Eagles ORG\n",
      "Hotel California GPE\n"
     ]
    }
   ],
   "source": [
    "example_text = \"Released on December 8, 1976. Hotel California is one of the best rock and roll albums to date, becoming an instant hit on release day. With over 16 million copies sold in the US alone, Hotel California topped the billboard charts for eight weeks and hit no.2 in the U.K.. Songs such as “Hotel California”, “New Kid in Town”, “Life in The Fast Lane”, made the album a massive hit and made it stand out from their previous work.\"\\\n",
    "+ \"From legendary harmonies from Don Felder and Jon Walsh to amazing vocal lines from Don Henley, this album has it all. It’s a must-listen for anybody who calls themselves a rock enthusiast.  In the early stages of the Eagles career, the band never received the ambitious sound that they were after, but Hotel California is the album that took them to that next level and expanded their sound. \"\n",
    "\n",
    "doc = m(example_text)\n",
    "for ent in doc.ents:\n",
    "    print(ent.text, ent.label_)"
   ]
  },
  {
   "cell_type": "code",
   "execution_count": 14,
   "metadata": {},
   "outputs": [
    {
     "ename": "SyntaxError",
     "evalue": "invalid syntax (<ipython-input-14-4eb1bd370c97>, line 1)",
     "output_type": "error",
     "traceback": [
      "\u001b[0;36m  File \u001b[0;32m\"<ipython-input-14-4eb1bd370c97>\"\u001b[0;36m, line \u001b[0;32m1\u001b[0m\n\u001b[0;31m    example_text1 = \"Christopher Nolan’s \"Interstellar,\" about astronauts traveling to the other end of the galaxy to find a new home to replace humanity’s despoiled home-world, is frantically busy and earsplittingly loud. It uses booming music to jack up the excitement level of scenes that might not otherwise excite. It features characters shoveling exposition at each other for almost three hours, and a few of those characters have no character to speak of: they’re mouthpieces for techno-babble and philosophical debate. And for all of the director’s activism on behalf of shooting on film, the tactile beauty of the movie’s 35mm and 65mm textures isn’t matched by a sense of composition. The camera rarely tells the story in Nolan’s movies. More often it illustrates the screenplay, and there are points in this one where I felt as if I was watching the most expensive NBC pilot ever made.\"\\\u001b[0m\n\u001b[0m                                                     ^\u001b[0m\n\u001b[0;31mSyntaxError\u001b[0m\u001b[0;31m:\u001b[0m invalid syntax\n"
     ]
    }
   ],
   "source": [
    "example_text1 = \"Christopher Nolan’s 'Interstellar,' about astronauts traveling to the other end of the galaxy to find a new home to replace humanity’s despoiled home-world, is frantically busy and earsplittingly loud. It uses booming music to jack up the excitement level of scenes that might not otherwise excite. It features characters shoveling exposition at each other for almost three hours, and a few of those characters have no character to speak of: they’re mouthpieces for techno-babble and philosophical debate. And for all of the director’s activism on behalf of shooting on film, the tactile beauty of the movie’s 35mm and 65mm textures isn’t matched by a sense of composition. The camera rarely tells the story in Nolan’s movies. More often it illustrates the screenplay, and there are points in this one where I felt as if I was watching the most expensive NBC pilot ever made.\"\\\n",
    "+ \"And yet 'Interstellar' is still an impressive, at times astonishing movie that overwhelmed me to the point where my usual objections to Nolan's work melted away. I’ve packed the first paragraph of this review with those objections (they could apply to any Nolan picture post \"Batman Begins\"; he is who he is) so that people know that he’s still doing the things that Nolan always does. Whether you find those things endearing or irritating will depend on your affinity for Nolan's style. \"\n",
    "\n",
    "doc1 = m(example_text1)\n",
    "for ent in doc1.ents:\n",
    "    print(ent.text, ent.label_)"
   ]
  },
  {
   "cell_type": "code",
   "execution_count": null,
   "metadata": {},
   "outputs": [],
   "source": []
  }
 ],
 "metadata": {
  "kernelspec": {
   "display_name": "Python 3",
   "language": "python",
   "name": "python3"
  },
  "language_info": {
   "codemirror_mode": {
    "name": "ipython",
    "version": 3
   },
   "file_extension": ".py",
   "mimetype": "text/x-python",
   "name": "python",
   "nbconvert_exporter": "python",
   "pygments_lexer": "ipython3",
   "version": "3.7.7"
  }
 },
 "nbformat": 4,
 "nbformat_minor": 4
}
